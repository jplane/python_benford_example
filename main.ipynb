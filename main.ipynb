{
 "cells": [
  {
   "cell_type": "code",
   "execution_count": null,
   "metadata": {},
   "outputs": [],
   "source": [
    "%matplotlib inline\n",
    "\n",
    "import numpy as np\n",
    "import pandas as pd\n",
    "import benford as bf"
   ]
  },
  {
   "cell_type": "code",
   "execution_count": null,
   "metadata": {},
   "outputs": [],
   "source": [
    "fr = pd.read_csv('data.csv')\n",
    "fr = fr.drop(['Timestamp'], axis=1)\n",
    "fr.head()"
   ]
  },
  {
   "cell_type": "code",
   "execution_count": null,
   "metadata": {},
   "outputs": [],
   "source": [
    "def format_value(val):\n",
    "    if isinstance(val, str):\n",
    "        val = float(val.replace('$', '').replace(',', ''))\n",
    "    return float(val)\n",
    "\n",
    "fr = fr.apply(np.vectorize(format_value))\n",
    "fr.head()"
   ]
  },
  {
   "cell_type": "code",
   "execution_count": null,
   "metadata": {},
   "outputs": [],
   "source": [
    "df = pd.DataFrame(columns=['values'])\n",
    "\n",
    "for col in fr:\n",
    "    df = pd.concat([df, pd.Series(fr[col].values, name='values').to_frame()], ignore_index=True)"
   ]
  },
  {
   "cell_type": "code",
   "execution_count": null,
   "metadata": {},
   "outputs": [],
   "source": [
    "bf.first_digits(df['values'], digs=1, decimals=8) # digs=1 for the first digit (1-9)"
   ]
  }
 ],
 "metadata": {
  "kernelspec": {
   "display_name": "venv",
   "language": "python",
   "name": "python3"
  },
  "language_info": {
   "codemirror_mode": {
    "name": "ipython",
    "version": 3
   },
   "file_extension": ".py",
   "mimetype": "text/x-python",
   "name": "python",
   "nbconvert_exporter": "python",
   "pygments_lexer": "ipython3",
   "version": "3.8.10"
  },
  "orig_nbformat": 4,
  "vscode": {
   "interpreter": {
    "hash": "82050d0e427a4d7f222ee923e194e2dc5d0a8e651823acb838c9c643be8dba6c"
   }
  }
 },
 "nbformat": 4,
 "nbformat_minor": 2
}
